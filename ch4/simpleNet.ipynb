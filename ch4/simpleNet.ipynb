{
 "cells": [
  {
   "cell_type": "code",
   "execution_count": 32,
   "id": "a0363e0f",
   "metadata": {},
   "outputs": [],
   "source": [
    "import numpy as np"
   ]
  },
  {
   "cell_type": "code",
   "execution_count": 34,
   "id": "9db37181",
   "metadata": {},
   "outputs": [],
   "source": [
    "# CrossEntropyError\n",
    "\n",
    "def cross_entropy_error(y, t):\n",
    "  delta=1e-7\n",
    "  return -np.sum(t*np.log(y+delta))"
   ]
  },
  {
   "cell_type": "code",
   "execution_count": 3,
   "id": "976a7602",
   "metadata": {},
   "outputs": [],
   "source": [
    "class simpleNet:\n",
    "  def __init__(self):\n",
    "    self.W = np.random.randn(2, 3)\n",
    "\n",
    "  def predict(self, x):\n",
    "    return x @ self.W\n",
    "\n",
    "  def softmax(self, x):\n",
    "    c = np.max(x)\n",
    "    exp_x = np.exp(x - c)\n",
    "    sum_exp_x = np.sum(exp_x)\n",
    "    return exp_x / sum_exp_x\n",
    "\n",
    "  def loss(self, x, t):\n",
    "    z = self.predict(x)\n",
    "    y = self.softmax(z)\n",
    "    loss = cross_entropy_error(y, t)\n",
    "    return loss"
   ]
  },
  {
   "cell_type": "code",
   "execution_count": 19,
   "id": "821505d1",
   "metadata": {},
   "outputs": [
    {
     "data": {
      "text/plain": [
       "array([[-0.49523076, -0.23353677, -1.34051522],\n",
       "       [ 0.22357727,  1.26420492, -1.43604815]])"
      ]
     },
     "execution_count": 19,
     "metadata": {},
     "output_type": "execute_result"
    }
   ],
   "source": [
    "net = simpleNet()\n",
    "net.W"
   ]
  },
  {
   "cell_type": "code",
   "execution_count": 23,
   "id": "f200a264",
   "metadata": {},
   "outputs": [
    {
     "data": {
      "text/plain": [
       "array([-0.09591891,  0.99766237, -2.09675246])"
      ]
     },
     "execution_count": 23,
     "metadata": {},
     "output_type": "execute_result"
    }
   ],
   "source": [
    "x = np.array([0.6, 0.9])\n",
    "p = net.predict(x)\n",
    "p"
   ]
  },
  {
   "cell_type": "code",
   "execution_count": 28,
   "id": "9f83f1ad",
   "metadata": {},
   "outputs": [
    {
     "data": {
      "text/plain": [
       "1"
      ]
     },
     "execution_count": 28,
     "metadata": {},
     "output_type": "execute_result"
    }
   ],
   "source": [
    "np.argmax(p)"
   ]
  },
  {
   "cell_type": "code",
   "execution_count": 35,
   "id": "8e7c43b8",
   "metadata": {},
   "outputs": [
    {
     "data": {
      "text/plain": [
       "3.416724299427445"
      ]
     },
     "execution_count": 35,
     "metadata": {},
     "output_type": "execute_result"
    }
   ],
   "source": [
    "t = np.array([0, 0, 1])\n",
    "net.loss(x, t)"
   ]
  }
 ],
 "metadata": {
  "kernelspec": {
   "display_name": "Python 3 (ipykernel)",
   "language": "python",
   "name": "python3"
  },
  "language_info": {
   "codemirror_mode": {
    "name": "ipython",
    "version": 3
   },
   "file_extension": ".py",
   "mimetype": "text/x-python",
   "name": "python",
   "nbconvert_exporter": "python",
   "pygments_lexer": "ipython3",
   "version": "3.9.7"
  }
 },
 "nbformat": 4,
 "nbformat_minor": 5
}
