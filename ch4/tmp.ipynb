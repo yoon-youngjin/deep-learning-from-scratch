{
 "cells": [
  {
   "cell_type": "code",
   "execution_count": 14,
   "id": "d7a056cf",
   "metadata": {},
   "outputs": [],
   "source": [
    "import numpy as np"
   ]
  },
  {
   "cell_type": "code",
   "execution_count": 15,
   "id": "7b752130",
   "metadata": {},
   "outputs": [],
   "source": [
    "# 손실 함수\n",
    "# 1. MSE\n",
    "# 2. CEE"
   ]
  },
  {
   "cell_type": "code",
   "execution_count": 16,
   "id": "8ab0e340",
   "metadata": {},
   "outputs": [],
   "source": [
    "#MSE\n",
    "def mean_squared_error(y, t):\n",
    "    return 0.5*np.sum((y-t)**2)"
   ]
  },
  {
   "cell_type": "code",
   "execution_count": 17,
   "id": "6a1336ca",
   "metadata": {},
   "outputs": [
    {
     "name": "stdout",
     "output_type": "stream",
     "text": [
      "0.09750000000000003\n",
      "0.5975\n"
     ]
    }
   ],
   "source": [
    "t = [0 , 0, 1, 0, 0, 0, 0, 0, 0, 0]\n",
    "\n",
    "y = [ 0.1 , 0.05 , 0.6 , 0.0 , 0.05 , 0.1 , 0.0 , 0.1 ,0.0, 0.0]\n",
    "print(mean_squared_error(np.array(y),np.array(t)))\n",
    "\n",
    "y = [0.1 , 0.05, 0.1, 0.0 , 0.05, 0.1 , 0.0, 0.6, 0.0 , 0.0]\n",
    "print(mean_squared_error(np.array(y),np.array(t)))\n",
    "\n",
    "# 손실 함수 쪽 출력이 작으면 정답 레이블과의 오차도 작은 것을 알 수 있다.\n",
    "# 즉, 평균 제곱 오차(MSE)를 기준으로는 첫 번째 추정 결과가 정답에 더 가까울 것으로 판단할 수 있다.\n"
   ]
  },
  {
   "cell_type": "code",
   "execution_count": 18,
   "id": "dd7a6669",
   "metadata": {},
   "outputs": [],
   "source": [
    "# CrossEntropyError\n",
    "\n",
    "def cross_entropy_error(y, t):\n",
    "    delta=1e-7 # 0.0000001\n",
    "    return -np.sum(t*np.log(y+delta))"
   ]
  },
  {
   "cell_type": "code",
   "execution_count": 19,
   "id": "0c5c4094",
   "metadata": {},
   "outputs": [
    {
     "name": "stdout",
     "output_type": "stream",
     "text": [
      "0.510825457099338\n",
      "2.302584092994546\n"
     ]
    }
   ],
   "source": [
    "t = [0 , 0, 1, 0, 0, 0, 0, 0, 0, 0]\n",
    "\n",
    "y = [ 0.1 , 0.05 , 0.6 , 0.0 , 0.05 , 0.1 , 0.0 , 0.1 ,0.0, 0.0]\n",
    "print(cross_entropy_error(np.array(y),np.array(t)))\n",
    "\n",
    "y = [0.1 , 0.05, 0.1, 0.0 , 0.05, 0.1 , 0.0, 0.6, 0.0 , 0.0]\n",
    "print(cross_entropy_error(np.array(y),np.array(t)))"
   ]
  },
  {
   "cell_type": "code",
   "execution_count": 20,
   "id": "bc50066b",
   "metadata": {},
   "outputs": [],
   "source": [
    "# CEE for Batch\n",
    "def cross_entropy_error_batch(y, t):\n",
    "    if y.ndim == 1:\n",
    "        t = np.reshape(1, t.size)\n",
    "        y = np.reshape(1, y.size)\n",
    "    \n",
    "    batch_size = y.shape[0]\n",
    "    delta = 1e-7\n",
    "    return -np.sum(t*np.log(y+delta)) / batch_size\n",
    "    "
   ]
  },
  {
   "cell_type": "code",
   "execution_count": 21,
   "id": "75068d48",
   "metadata": {},
   "outputs": [
    {
     "data": {
      "text/plain": [
       "18.9315052010522"
      ]
     },
     "execution_count": 21,
     "metadata": {},
     "output_type": "execute_result"
    }
   ],
   "source": [
    "y = [[ 0.1 , 0.05 , 0.6 , 0.0 , 0.05 , 0.1 , 0.0 , 0.1 ,0.0, 0.0], \n",
    "     [ 0.1 , 0.05 , 0.6 , 0.0 , 0.05 , 0.1 , 0.0 , 0.1 ,0.0, 0.0]]\n",
    "t = [0 , 0, 1, 0, 0, 0, 1, 1, 0, 0]\n",
    "\n",
    "cross_entropy_error_batch(np.array(y), np.array(t))"
   ]
  },
  {
   "cell_type": "code",
   "execution_count": 22,
   "id": "84963e0d",
   "metadata": {},
   "outputs": [],
   "source": [
    "# 수치 미분\n",
    "def numerial_diff(f, x):\n",
    "    h = 1e-4\n",
    "    return f(x+h) + f(x-h) / (2*h)"
   ]
  },
  {
   "cell_type": "code",
   "execution_count": 23,
   "id": "cd00a799",
   "metadata": {},
   "outputs": [],
   "source": [
    "# 편미분과 기울기\n",
    "def numerical_gradeient(f, x):\n",
    "    grad = np.zeros_like(x)\n",
    "    h = 1e-4\n",
    "    \n",
    "    for i in range(x.size):\n",
    "        tmp_val = x[idx]\n",
    "        \n",
    "        #f(x+h)\n",
    "        x[idx] = tmp_val + h\n",
    "        fxh1 = f(x)\n",
    "        \n",
    "        #f(x-h)\n",
    "        x[idx] = tmp_val - h\n",
    "        fxh2 = f(x)\n",
    "        \n",
    "        grad = (fxh1 - fxh2) / (2*h)\n",
    "        x[idx] = tmp_val\n",
    "        \n",
    "    return grad\n",
    "    "
   ]
  },
  {
   "cell_type": "code",
   "execution_count": 24,
   "id": "3880b190",
   "metadata": {
    "scrolled": true
   },
   "outputs": [],
   "source": [
    "#Gradient Descent\n",
    "def gradient_descent(f, init_x, lr=0.01, step_num=100):\n",
    "    x = init_x\n",
    "    for i in range(step_num):\n",
    "        grad = numerical_gradeient(f, x)\n",
    "        x -= lr*grad\n",
    "    return x"
   ]
  },
  {
   "cell_type": "code",
   "execution_count": 25,
   "id": "c6f79f56",
   "metadata": {},
   "outputs": [
    {
     "name": "stdout",
     "output_type": "stream",
     "text": [
      "0.1\n",
      "0.05\n",
      "0.6\n",
      "0.0\n",
      "0.05\n",
      "0.1\n",
      "0.0\n",
      "0.1\n",
      "0.0\n",
      "0.0\n",
      "0.1\n",
      "0.05\n",
      "0.6\n",
      "0.0\n",
      "0.05\n",
      "0.1\n",
      "0.0\n",
      "0.1\n",
      "0.0\n",
      "0.0\n"
     ]
    }
   ],
   "source": [
    "x = [[ 0.1 , 0.05 , 0.6 , 0.0 , 0.05 , 0.1 , 0.0 , 0.1 ,0.0, 0.0], \n",
    "     [ 0.1 , 0.05 , 0.6 , 0.0 , 0.05 , 0.1 , 0.0 , 0.1 ,0.0, 0.0]]\n",
    "x = np.array(x)\n",
    "it = np.nditer(x, flags=['multi_index'], op_flags=['readwrite']) # 배열 반복\n",
    "while not it.finished:\n",
    "    idx = it.multi_index\n",
    "    print(x[idx])\n",
    "    \n",
    "    it.iternext()\n"
   ]
  },
  {
   "cell_type": "code",
   "execution_count": 26,
   "id": "d905e078",
   "metadata": {},
   "outputs": [],
   "source": [
    "class simpleNet:\n",
    "  def __init__(self):\n",
    "    self.W = np.random.randn(2, 3)\n",
    "\n",
    "  def predict(self, x):\n",
    "    return x @ self.W\n",
    "\n",
    "  def softmax(self, x):\n",
    "    c = np.max(x)\n",
    "    exp_x = np.exp(x - c)\n",
    "    sum_exp_x = np.sum(exp_x)\n",
    "    return exp_x / sum_exp_x\n",
    "\n",
    "  def loss(self, x, t):\n",
    "    z = self.predict(x)\n",
    "    y = self.softmax(z)\n",
    "    loss = cross_entropy_error(y, t)\n",
    "    print(loss)\n",
    "    return loss"
   ]
  },
  {
   "cell_type": "code",
   "execution_count": 27,
   "id": "0c25037f",
   "metadata": {},
   "outputs": [
    {
     "data": {
      "text/plain": [
       "array([[-1.82270761, -1.41188597,  1.41542353],\n",
       "       [ 0.01789763, -0.41438805,  0.3719715 ]])"
      ]
     },
     "execution_count": 27,
     "metadata": {},
     "output_type": "execute_result"
    }
   ],
   "source": [
    "net = simpleNet()\n",
    "net.W"
   ]
  },
  {
   "cell_type": "code",
   "execution_count": 28,
   "id": "2565e6d7",
   "metadata": {},
   "outputs": [],
   "source": [
    "x = [[ 0.1 , 0.05 , 0.6 , 0.0 , 0.05 , 0.1 , 0.0 , 0.1 ,0.0, 0.0], \n",
    "     [ 0.1 , 0.05 , 0.6 , 0.0 , 0.05 , 0.1 , 0.0 , 0.1 ,0.0, 0.0]]\n",
    "x = np.array(x)\n",
    "t = [0 , 0, 1, 0, 0, 0, 1, 1, 0, 0]\n",
    "t = np.array(t)\n",
    "\n"
   ]
  },
  {
   "cell_type": "code",
   "execution_count": 29,
   "id": "32e2308b",
   "metadata": {},
   "outputs": [],
   "source": [
    "def numerical_gradient(f, x):\n",
    "    h = 1e-4 # 0.0001\n",
    "    grad = np.zeros_like(x)\n",
    "    \n",
    "    it = np.nditer(x, flags=['multi_index'], op_flags=['readwrite'])\n",
    "    while not it.finished:\n",
    "        idx = it.multi_index\n",
    "        tmp_val = x[idx]\n",
    "        x[idx] = tmp_val + h\n",
    "        fxh1 = f(x) # f(x+h)\n",
    "        \n",
    "        x[idx] = tmp_val - h \n",
    "        fxh2 = f(x) # f(x-h)\n",
    "        grad[idx] = (fxh1 - fxh2) / (2*h)\n",
    "        \n",
    "        x[idx] = tmp_val # 값 복원\n",
    "        it.iternext()   \n",
    "        \n",
    "    return grad"
   ]
  },
  {
   "cell_type": "code",
   "execution_count": 30,
   "id": "6abdbebb",
   "metadata": {},
   "outputs": [],
   "source": [
    "def softmax(x):\n",
    "    c = np.max(x)\n",
    "    exp_x = np.exp(x - c)\n",
    "    sum_exp_x = np.sum(exp_x)\n",
    "    y = exp_x / sum_exp_x\n",
    "    return y"
   ]
  },
  {
   "cell_type": "code",
   "execution_count": 31,
   "id": "eeea06ed",
   "metadata": {
    "scrolled": true
   },
   "outputs": [
    {
     "name": "stdout",
     "output_type": "stream",
     "text": [
      "[[ 0.6188183   0.78188084 -0.4666302 ]\n",
      " [ 1.12682834 -1.19801892  0.26498361]]\n"
     ]
    }
   ],
   "source": [
    "class simpleNet:\n",
    "    def __init__(self):\n",
    "        self.W = np.random.randn(2,3) # 정규분포로 초기화\n",
    "\n",
    "    def predict(self, x):\n",
    "        return np.dot(x, self.W)\n",
    "\n",
    "    def loss(self, x, t):\n",
    "        z = self.predict(x)\n",
    "        y = softmax(z)\n",
    "        loss = cross_entropy_error(y, t)\n",
    "\n",
    "        return loss\n",
    "\n",
    "x = np.array([0.6, 0.9])\n",
    "t = np.array([0, 0, 1])\n",
    "\n",
    "net = simpleNet()\n",
    "print(net.W)\n"
   ]
  },
  {
   "cell_type": "code",
   "execution_count": 32,
   "id": "373eeb29",
   "metadata": {},
   "outputs": [
    {
     "data": {
      "text/plain": [
       "array([[ 0.43600724,  0.05933111, -0.49533835],\n",
       "       [ 0.65401085,  0.08899667, -0.74300752]])"
      ]
     },
     "execution_count": 32,
     "metadata": {},
     "output_type": "execute_result"
    }
   ],
   "source": [
    "f = lambda w: net.loss(x, t)\n",
    "dW = numerical_gradient(f, net.W)\n",
    "dW"
   ]
  },
  {
   "cell_type": "code",
   "execution_count": 33,
   "id": "5e0cd0ff",
   "metadata": {},
   "outputs": [],
   "source": [
    "class TwoLayerNet:\n",
    "    def __init__(self, input_size, hidden_size, output_size, weight_init_std=0.01):\n",
    "        self.params = {}\n",
    "        self.params['W1'] = weight_init_std * np.random.randn(input_size, hidden_size)\n",
    "        self.params['b1'] = weight_init_std * np.random.randn(hidden_size)\n",
    "        self.params['W2'] = weight_init_std * np.random.randn(hidden_size, output_size)\n",
    "        self.params['b2'] = weight_init_std * np.random.randn(output_size)\n",
    "        \n",
    "        \n",
    "    def sigmoid(self, x):\n",
    "        return 1 / (1 + np.exp(-x))\n",
    "    \n",
    "    def softmax(self, x):\n",
    "        c = np.max(x)\n",
    "        exp_x = np.exp(x-c)\n",
    "        exp_all = np.sum(exp_x)\n",
    "        \n",
    "        return exp_x / exp_all\n",
    "        \n",
    "    \n",
    "    def cross_entropy_error(self, y, t):\n",
    "       \n",
    "        if y.ndim == 1:\n",
    "            t = t.reshape(1, t.size)\n",
    "            y = y.reshape(1, y.size)\n",
    "        \n",
    "        if t.size == y.size:\n",
    "            t = t.argmax(axis=1)\n",
    "        \n",
    "        batch_size = y.shape[0]\n",
    "        return -np.sum(np.log(y[np.arange(batch_size), t])) / batch_size \n",
    "            \n",
    "        \n",
    "    \n",
    "    def loss(self, x ,t):\n",
    "        y = self.predict(x)\n",
    "        \n",
    "        return self.cross_entropy_error(y, t)\n",
    "    \n",
    "    \n",
    "    def predict(self, x):\n",
    "        \n",
    "        W1, W2 = self.params['W1'], self.params['W2']\n",
    "        b1, b2 = self.params['b1'], self.params['b2']\n",
    "        \n",
    "        a1 = x @ W1 + b1\n",
    "        z1 = self.sigmoid(a1)\n",
    "        a2 = z1 @ W2 + b2\n",
    "        y = self.softmax(a2)\n",
    "        \n",
    "        return y\n",
    "    \n",
    "    def accuracy(self, x, t):\n",
    "        y = self.predict(x)\n",
    "        y = np.argmax(y, axis=1)\n",
    "        t = np.argmax(t, axis=1)\n",
    "        \n",
    "        accuracy = np.sum(y == t) / float(x.shape[0])\n",
    "        return accuracy\n",
    "        \n",
    "    def numerical_gradient(self, f, x):\n",
    "        h = 1e-4\n",
    "        grad = np.zeros_like(x)\n",
    "        \n",
    "        it = np.nditer(x, flags =['multi_index'], op_flags=['readwrite'])\n",
    "        \n",
    "        while not it.finished:\n",
    "            idx = it.multi_index\n",
    "            tmp_val = x[idx]\n",
    "            \n",
    "            x[idx] = tmp_val + h\n",
    "            fxh1 = f(x)\n",
    "            \n",
    "            x[idx]  = tmp_val - h\n",
    "            fxh2 = f(x)\n",
    "            \n",
    "            grad[idx] = (fxh1 - fxh2) / (2*h)\n",
    "            x[idx] = tmp_val\n",
    "            \n",
    "            it.iternext()\n",
    "            \n",
    "        return grad\n",
    "        \n",
    "    \n",
    "    def numerical_gradient_all(self, x, t):\n",
    "        \n",
    "        loss_W = lambda W: self.loss(x, t)\n",
    "        \n",
    "        \n",
    "        grads = {}\n",
    "        grads['W1'] = self.numerical_gradient(loss_W, self.params['W1'])\n",
    "        grads['b1'] = self.numerical_gradient(loss_W, self.params['b1'])\n",
    "        grads['W2'] = self.numerical_gradient(loss_W, self.params['W2'])\n",
    "        grads['b2'] = self.numerical_gradient(loss_W, self.params['b2'])\n",
    "        \n",
    "        return grad\n",
    "            \n",
    "            \n",
    "            \n",
    "        "
   ]
  },
  {
   "cell_type": "code",
   "execution_count": null,
   "id": "73926494",
   "metadata": {},
   "outputs": [
    {
     "name": "stdout",
     "output_type": "stream",
     "text": [
      "(784, 100)\n",
      "(100,)\n",
      "(100, 10)\n",
      "(10,)\n"
     ]
    }
   ],
   "source": [
    "net = TwoLayerNet(input_size = 784, hidden_size = 100, output_size=10)\n",
    "print(net.params['W1'].shape)  # (784, 100)\n",
    "print(net.params['b1'].shape)  # (100,)\n",
    "print(net.params['W2'].shape)  # (100, 10)\n",
    "print(net.params['b2'].shape)  # (10,)\n",
    "\n",
    "x = np.random.rand(100, 784)  # 더미 입력 데이터(100장 분량)\n",
    "# 100 * 100\n",
    "# (100 * 100) * (100 * 10) => (100, 10)\n",
    "t = np.random.rand(100, 10)   # 더미 정답 레이블(100장 분량)\n",
    "\n",
    "grads = net.numerical_gradient_all(x, t)  # 기울기 계산"
   ]
  },
  {
   "cell_type": "code",
   "execution_count": null,
   "id": "70c7fcad",
   "metadata": {},
   "outputs": [],
   "source": [
    "print(grads['W1'].shape)  # (784, 100)\n",
    "print(grads['b1'].shape)  # (100,)\n",
    "print(grads['W2'].shape)  # (100, 10)\n",
    "print(grads['b2'].shape)  # (10,)"
   ]
  },
  {
   "cell_type": "code",
   "execution_count": null,
   "id": "5a031a9e",
   "metadata": {},
   "outputs": [],
   "source": [
    "from dataset03.dataset.mnist import load_mnist\n",
    "(x_train, t_train), (x_test, t_test) = load_mnist(flatten=True, normalize=False)"
   ]
  },
  {
   "cell_type": "code",
   "execution_count": null,
   "id": "34d9d6cc",
   "metadata": {},
   "outputs": [],
   "source": [
    "print(x_train.shape)\n",
    "print(t_train.shape)\n",
    "print(x_test.shape)\n",
    "print(t_test.shape)"
   ]
  },
  {
   "cell_type": "code",
   "execution_count": null,
   "id": "bbd30b09",
   "metadata": {},
   "outputs": [],
   "source": [
    "iters_num = 1000 \n",
    "train_size = x_train.shape[0]\n",
    "batch_size = 100 # 미니배치 크기\n",
    "learning_rate = 0.1\n",
    "\n",
    "network = TwoLayerNet(input_size=784, hidden_size=50, output_size=10)\n",
    "\n",
    "train_loss_list = []\n",
    "train_acc_list = []\n",
    "test_acc_list = []\n",
    "\n",
    "# 1에폭당 반복 수\n",
    "iter_per_epoch = max(train_size/batch_size, 1)"
   ]
  },
  {
   "cell_type": "code",
   "execution_count": null,
   "id": "6ef96a6f",
   "metadata": {},
   "outputs": [],
   "source": [
    "from tqdm.auto import tqdm # progress bar\n",
    "\n",
    "for i in tqdm(range(iters_num)):\n",
    "    # 미니배치 획득\n",
    "    batch_mask = np.random.choice(train_size, batch_size)\n",
    "    x_batch = x_train[batch_mask]\n",
    "    t_batch = t_train[batch_mask]\n",
    "    \n",
    "    # 기울기 계산\n",
    "    grad = network.numerical_gradient_all(x_batch, t_batch)\n",
    "    \n",
    "    # 매개변수 갱신\n",
    "    for key in('W1', 'b1', 'W2', 'b2'):\n",
    "        network.params[key] -= learning_rate * grad[key]\n",
    "        \n",
    "    # 학습 경과 기록\n",
    "    loss = network.loss(x_batch, t_batch)\n",
    "    train_loss_list.append(loss)\n",
    "    \n",
    "     # 1에폭 당 정확도 계산\n",
    "    if i % iter_per_epoch == 0:\n",
    "        train_acc = network.accuracy(x_train, t_train)\n",
    "        test_acc = network.accuracy(x_test, t_test)\n",
    "        train_acc_list.append(train_acc)\n",
    "        test_acc_list.append(test_acc)\n",
    "        print(\"train acc, test acc | \"+ str(train_acc) + \", \" + str(test_acc))\n",
    "    "
   ]
  },
  {
   "cell_type": "code",
   "execution_count": null,
   "id": "862e4eeb",
   "metadata": {},
   "outputs": [],
   "source": []
  }
 ],
 "metadata": {
  "kernelspec": {
   "display_name": "Python 3 (ipykernel)",
   "language": "python",
   "name": "python3"
  },
  "language_info": {
   "codemirror_mode": {
    "name": "ipython",
    "version": 3
   },
   "file_extension": ".py",
   "mimetype": "text/x-python",
   "name": "python",
   "nbconvert_exporter": "python",
   "pygments_lexer": "ipython3",
   "version": "3.9.7"
  }
 },
 "nbformat": 4,
 "nbformat_minor": 5
}
