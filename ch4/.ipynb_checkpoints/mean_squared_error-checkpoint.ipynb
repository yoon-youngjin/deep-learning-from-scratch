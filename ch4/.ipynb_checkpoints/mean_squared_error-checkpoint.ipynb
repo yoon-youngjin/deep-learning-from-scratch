{
 "cells": [
  {
   "cell_type": "code",
   "execution_count": 2,
   "id": "bf9bc2f5",
   "metadata": {},
   "outputs": [],
   "source": [
    "import numpy as np"
   ]
  },
  {
   "cell_type": "code",
   "execution_count": 10,
   "id": "f84e6189",
   "metadata": {},
   "outputs": [],
   "source": [
    "def mean_squared_error (y , t ) :\n",
    "    return 0.5 * np.sum((y - t)**2)"
   ]
  },
  {
   "cell_type": "code",
   "execution_count": 18,
   "id": "2ec88232",
   "metadata": {},
   "outputs": [
    {
     "data": {
      "text/plain": [
       "0.5975"
      ]
     },
     "execution_count": 18,
     "metadata": {},
     "output_type": "execute_result"
    }
   ],
   "source": [
    "t = [0 , 0, 1, 0, 0, 0, 0, 0, 0, 0]\n",
    "\n",
    "y = [ 0.1 , 0.05 , 0.6 , 0.0 , 0.05 , 0.1 , 0.0 , 0.1 ,0.0, 0.0]\n",
    "mean_squared_error(np.array(y),np.array(t))\n",
    "\n",
    "y = [0.1 , 0.05, 0.1, 0.0 , 0.05, 0.1 , 0.0, 0.6, 0.0 , 0.0]\n",
    "mean_squared_error(np.array(y),np.array(t))\n",
    "\n",
    "# 손실 함수 쪽 출력이 작으면 정답 레이블과의 오차도 작은 것을 알 수 있다.\n",
    "# 즉, 평균 제곱 오차(MSE)를 기준으로는 첫 번째 추정 결과가 정답에 더 가까울 것으로 판단할 수 있다."
   ]
  }
 ],
 "metadata": {
  "kernelspec": {
   "display_name": "Python 3 (ipykernel)",
   "language": "python",
   "name": "python3"
  },
  "language_info": {
   "codemirror_mode": {
    "name": "ipython",
    "version": 3
   },
   "file_extension": ".py",
   "mimetype": "text/x-python",
   "name": "python",
   "nbconvert_exporter": "python",
   "pygments_lexer": "ipython3",
   "version": "3.9.7"
  }
 },
 "nbformat": 4,
 "nbformat_minor": 5
}
