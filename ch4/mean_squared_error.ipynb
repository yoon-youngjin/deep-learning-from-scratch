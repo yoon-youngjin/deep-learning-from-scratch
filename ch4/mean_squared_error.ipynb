{
 "cells": [
  {
   "cell_type": "code",
   "execution_count": 17,
   "id": "bf9bc2f5",
   "metadata": {},
   "outputs": [],
   "source": [
    "import numpy as np"
   ]
  },
  {
   "cell_type": "code",
   "execution_count": 10,
   "id": "f84e6189",
   "metadata": {},
   "outputs": [],
   "source": [
    "def mean_squared_error (y , t ) :\n",
    "    return 0.5 * np.sum((y - t)**2)"
   ]
  },
  {
   "cell_type": "code",
   "execution_count": 18,
   "id": "2ec88232",
   "metadata": {},
   "outputs": [
    {
     "data": {
      "text/plain": [
       "0.5975"
      ]
     },
     "execution_count": 18,
     "metadata": {},
     "output_type": "execute_result"
    }
   ],
   "source": [
    "t = [0 , 0, 1, 0, 0, 0, 0, 0, 0, 0]\n",
    "\n",
    "y = [ 0.1 , 0.05 , 0.6 , 0.0 , 0.05 , 0.1 , 0.0 , 0.1 ,0.0, 0.0]\n",
    "mean_squared_error(np.array(y),np.array(t))\n",
    "\n",
    "y = [0.1 , 0.05, 0.1, 0.0 , 0.05, 0.1 , 0.0, 0.6, 0.0 , 0.0]\n",
    "mean_squared_error(np.array(y),np.array(t))\n",
    "\n",
    "# 손실 함수 쪽 출력이 작으면 정답 레이블과의 오차도 작은 것을 알 수 있다.\n",
    "# 즉, 평균 제곱 오차(MSE)를 기준으로는 첫 번째 추정 결과가 정답에 더 가까울 것으로 판단할 수 있다."
   ]
  },
  {
   "cell_type": "code",
   "execution_count": 51,
   "id": "837f5ada",
   "metadata": {},
   "outputs": [],
   "source": [
    "def softmax(x):\n",
    "    c = np.max(x)\n",
    "    exp_x = np.exp(x-c)\n",
    "    exp_all = np.sum(exp_x)\n",
    "    \n",
    "    return exp_x / exp_all"
   ]
  },
  {
   "cell_type": "code",
   "execution_count": 57,
   "id": "2100ee8f",
   "metadata": {},
   "outputs": [],
   "source": [
    "def cross_entropy_error(x, t):\n",
    "    delta = 1e-7\n",
    "    return -np.sum(t*np.log(x+delta))"
   ]
  },
  {
   "cell_type": "code",
   "execution_count": 78,
   "id": "9add365f",
   "metadata": {},
   "outputs": [],
   "source": [
    "def numerical_gradient(f, x):\n",
    "    \n",
    "    h = 1e-4\n",
    "    grad = np.zeros_like(x)\n",
    "    \n",
    "    it = np.nditer(x, flags=['multi_index'], op_flags=['readwrite'])\n",
    "    \n",
    "    while not it.finished:\n",
    "        idx = it.multi_index\n",
    "        tmp_val = x[idx]\n",
    "        \n",
    "        x[idx] = tmp_val + h\n",
    "        fxh1 = f(x)\n",
    "        \n",
    "        x[idx] = tmp_val - h\n",
    "        fxh2 = f(x)\n",
    "        \n",
    "        grad[idx] = (fxh1 - fxh2) / (2*h)\n",
    "        x[idx] = tmp_val\n",
    "        it.iternext()\n",
    "    \n",
    "    return grad"
   ]
  },
  {
   "cell_type": "code",
   "execution_count": 88,
   "id": "ede19112",
   "metadata": {},
   "outputs": [],
   "source": [
    "class simpleNet():\n",
    "    def __init__(self):\n",
    "        self.W = np.random.randn(2,3)\n",
    "    \n",
    "    def predict(self, x):\n",
    "        return np.dot(x, self.W)\n",
    "    \n",
    "    def loss(self, x, t):\n",
    "        \n",
    "        z = self.predict(x)\n",
    "        y = softmax(z)\n",
    "        \n",
    "        loss = cross_entropy_error(y, t)\n",
    "        return loss\n",
    "    "
   ]
  },
  {
   "cell_type": "code",
   "execution_count": 95,
   "id": "af2c4adf",
   "metadata": {},
   "outputs": [
    {
     "data": {
      "text/plain": [
       "array([[ 0.34969106, -0.45844072,  0.1444796 ],\n",
       "       [-0.25074432, -0.86718296, -0.63113666]])"
      ]
     },
     "execution_count": 95,
     "metadata": {},
     "output_type": "execute_result"
    }
   ],
   "source": [
    "net = simpleNet()\n",
    "net.W"
   ]
  },
  {
   "cell_type": "code",
   "execution_count": 96,
   "id": "deb90623",
   "metadata": {},
   "outputs": [],
   "source": [
    "x = np.array([0.6, 0.9])\n",
    "t = np.array([0, 0, 1])\n",
    "f = lambda w:net.loss(x, t)\n",
    "dw = numerical_gradient(f, net.W)"
   ]
  },
  {
   "cell_type": "code",
   "execution_count": null,
   "id": "17628aa9",
   "metadata": {},
   "outputs": [],
   "source": []
  }
 ],
 "metadata": {
  "kernelspec": {
   "display_name": "Python 3 (ipykernel)",
   "language": "python",
   "name": "python3"
  },
  "language_info": {
   "codemirror_mode": {
    "name": "ipython",
    "version": 3
   },
   "file_extension": ".py",
   "mimetype": "text/x-python",
   "name": "python",
   "nbconvert_exporter": "python",
   "pygments_lexer": "ipython3",
   "version": "3.9.7"
  }
 },
 "nbformat": 4,
 "nbformat_minor": 5
}
