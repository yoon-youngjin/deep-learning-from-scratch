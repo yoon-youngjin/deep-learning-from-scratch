{
 "cells": [
  {
   "cell_type": "code",
   "execution_count": 17,
   "id": "e840ce65",
   "metadata": {},
   "outputs": [],
   "source": [
    "from dataset03.dataset.mnist import load_mnist\n",
    "import numpy as np"
   ]
  },
  {
   "cell_type": "code",
   "execution_count": 16,
   "id": "b14d8efd",
   "metadata": {},
   "outputs": [],
   "source": [
    "weight_dir = './dataset03/sample_weight.pkl'"
   ]
  },
  {
   "cell_type": "code",
   "execution_count": 18,
   "id": "55bad87a",
   "metadata": {},
   "outputs": [],
   "source": [
    "def sigmoid(x):\n",
    "    return 1 / (1 + np.exp(-x))"
   ]
  },
  {
   "cell_type": "code",
   "execution_count": 19,
   "id": "59deaff7",
   "metadata": {},
   "outputs": [],
   "source": [
    "def softmax(x):\n",
    "\n",
    "    c = np.max(x)\n",
    "    exp_x = np.exp(x-c)\n",
    "    exp_all = np.sum(exp_x)\n",
    "    \n",
    "    return exp_x / exp_all\n"
   ]
  },
  {
   "cell_type": "code",
   "execution_count": 25,
   "id": "eebd8236",
   "metadata": {},
   "outputs": [],
   "source": [
    "import pickle\n",
    "\n",
    "class MnistNet():\n",
    "    def __init__(self, weight_dir):\n",
    "        with open(weight_dir, 'rb') as f:\n",
    "            self.network = pickle.load(f)\n",
    "       \n",
    "            \n",
    "    def getData(self):\n",
    "        \n",
    "        return load_mnist(flatten=True, normalize = False)\n",
    "    \n",
    "    def predict(self,x):\n",
    "        W1, W2, W3 = self.network['W1'], self.network['W2'],self.network['W3']\n",
    "        b1, b2, b3 = self.network['b1'], self.network['b2'],self.network['b3']\n",
    "        \n",
    "        a1 = np.dot(x,W1) + b1\n",
    "        z1 = sigmoid(a1)\n",
    "        a2 = np.dot(z1,W2) + b2\n",
    "        z2 = sigmoid(a2)\n",
    "        a3 = np.dot(z2,W3) + b3\n",
    "        y = softmax(a3)\n",
    "        return y\n",
    "    \n",
    "    def accuracy_cnt(self, x, t):\n",
    "        \n",
    "        accuracy_cnt = 0\n",
    "        for i in range(len(x)) :\n",
    "            y = self.predict(x[i])\n",
    "            p = np.argmax(y)\n",
    "            if p == t[i]:\n",
    "                accuracy_cnt+=1\n",
    "        print(f\"Accuracy : {float(accuracy_cnt) / len(x)}\")\n",
    "    \n",
    "    def accuracy_cnt_batch(self, x, t, batch_size):\n",
    "        \n",
    "        accuracy_cnt = 0\n",
    "        \n",
    "        for i in range(0, len(x), batch_size):\n",
    "            x_batch = x[i:i+batch_size]\n",
    "            y_batch = self.predict(x_batch)\n",
    "            p = np.argmax(y_batch,axis=1)\n",
    "            \n",
    "            accuracy_cnt += np.sum(p == t[])\n",
    "            \n",
    "        \n",
    "        \n",
    "    \n",
    "        print(f\"Accuracy : {float(accuracy_cnt) / len(x)}\") \n",
    "        "
   ]
  },
  {
   "cell_type": "code",
   "execution_count": 26,
   "id": "7d4002d7",
   "metadata": {},
   "outputs": [
    {
     "name": "stderr",
     "output_type": "stream",
     "text": [
      "C:\\Users\\dudwl\\AppData\\Local\\Temp/ipykernel_14348/1253679003.py:2: RuntimeWarning: overflow encountered in exp\n",
      "  return 1 / (1 + np.exp(-x))\n"
     ]
    },
    {
     "name": "stdout",
     "output_type": "stream",
     "text": [
      "Accuracy : 0.9207\n",
      "Accuracy : 0.9207\n"
     ]
    }
   ],
   "source": [
    "net = MnistNet(weight_dir)\n",
    "(x_train, y_train), (x_test, y_test) = net.getData()\n",
    "net.predict(x_train).shape\n",
    "net.accuracy_cnt(x_test,y_test)\n",
    "net.accuracy_cnt_batch(x_test,y_test,300)\n"
   ]
  }
 ],
 "metadata": {
  "kernelspec": {
   "display_name": "Python 3 (ipykernel)",
   "language": "python",
   "name": "python3"
  },
  "language_info": {
   "codemirror_mode": {
    "name": "ipython",
    "version": 3
   },
   "file_extension": ".py",
   "mimetype": "text/x-python",
   "name": "python",
   "nbconvert_exporter": "python",
   "pygments_lexer": "ipython3",
   "version": "3.9.7"
  }
 },
 "nbformat": 4,
 "nbformat_minor": 5
}
