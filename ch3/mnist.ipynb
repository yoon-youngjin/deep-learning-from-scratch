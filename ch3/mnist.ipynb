{
 "cells": [
  {
   "cell_type": "code",
   "execution_count": 1,
   "id": "3ed51fc3",
   "metadata": {},
   "outputs": [],
   "source": [
    "from dataset03.dataset.mnist import load_mnist\n",
    "import numpy as np"
   ]
  },
  {
   "cell_type": "code",
   "execution_count": 2,
   "id": "32699752",
   "metadata": {},
   "outputs": [],
   "source": [
    "(x_train, t_train), (x_test, t_test) = load_mnist(flatten=True, normalize=False)"
   ]
  },
  {
   "cell_type": "code",
   "execution_count": 5,
   "id": "4daf955f",
   "metadata": {},
   "outputs": [
    {
     "name": "stdout",
     "output_type": "stream",
     "text": [
      "(60000, 784)\n",
      "(60000,)\n",
      "(10000, 784)\n",
      "(10000,)\n"
     ]
    }
   ],
   "source": [
    "print(x_train.shape)\n",
    "print(t_train.shape)\n",
    "print(x_test.shape)\n",
    "print(t_test.shape)"
   ]
  },
  {
   "cell_type": "code",
   "execution_count": 17,
   "id": "0cd51b1f",
   "metadata": {},
   "outputs": [],
   "source": [
    "weight_dir = './dataset03/sample_weight.pkl'"
   ]
  },
  {
   "cell_type": "code",
   "execution_count": 42,
   "id": "ca334745",
   "metadata": {},
   "outputs": [],
   "source": [
    "def sigmoid(x):\n",
    "    return 1 / (1 + np.exp(-x))"
   ]
  },
  {
   "cell_type": "code",
   "execution_count": 46,
   "id": "7d27b808",
   "metadata": {},
   "outputs": [],
   "source": [
    "def softmax(x):\n",
    "    c = np.max(x)\n",
    "    exp_x = np.exp(x - c)\n",
    "    sum_exp_x = np.sum(exp_x)\n",
    "    return exp_x / sum_exp_x"
   ]
  },
  {
   "cell_type": "code",
   "execution_count": 58,
   "id": "43da723a",
   "metadata": {},
   "outputs": [],
   "source": [
    "import pickle\n",
    "\n",
    "class mnistmodel():\n",
    "    def __init__(self, weight_dir):\n",
    "        with open(weight_dir, 'rb') as f:\n",
    "            self.network = pickle.load(f)\n",
    "    \n",
    "    def get_data(self, normalize=True, flatten=True, one_hot_label=False):\n",
    "        (x_train, t_train), (x_test, t_test) = load_mnist(flatten=True, normalize=False)\n",
    "        return (x_train, t_train), (x_test, t_test)\n",
    "    \n",
    "    def predict(self, x):\n",
    "        W1, W2, W3 = self.network['W1'], self.network['W2'], self.network['W3']\n",
    "        b1, b2, b3 = self.network['b1'], self.network['b2'], self.network['b3']\n",
    "        \n",
    "        a1 = np.dot(x, W1) + b1\n",
    "        z1 = sigmoid(a1)\n",
    "        a2 = np.dot(z1,W2) + b2\n",
    "        z2 = sigmoid(a2)\n",
    "        a3 = np.dot(z2, W3) + b3\n",
    "        y = softmax(a3)\n",
    "        \n",
    "        return y\n",
    "    \n",
    "    def accuracy_cnt(self, x, t):\n",
    "        accuracy_cnt = 0\n",
    "        for i in range(len(x) ) :\n",
    "            y = self.predict(x[i])\n",
    "            p = np.argmax(y) \n",
    "            if p == t[i]:\n",
    "                accuracy_cnt += 1\n",
    "                \n",
    "        print(f\"Accuracy : {float(accuracy_cnt) / len(x)}\")\n",
    "        \n",
    "    def accuracy_cnt_batch(self, x, t, batch_size):\n",
    "        \n",
    "        accuracy_cnt = 0\n",
    "        for i in range(0 , len(x) , batch_size) :\n",
    "            x_batch = x [i:i+batch_size]\n",
    "            y_batch = self.predict(x_batch)\n",
    "            p = np.argmax(y_batch, axis=1)\n",
    "            accuracy_cnt = accuracy_cnt + np.sum(p == t[i:i+batch_size])\n",
    "            \n",
    "        print(f\"Accuracy : {float(accuracy_cnt) / len(x)}\")  "
   ]
  },
  {
   "cell_type": "code",
   "execution_count": 59,
   "id": "db2bd784",
   "metadata": {},
   "outputs": [
    {
     "name": "stderr",
     "output_type": "stream",
     "text": [
      "C:\\Users\\dudwl\\AppData\\Local\\Temp/ipykernel_980/449343092.py:2: RuntimeWarning: overflow encountered in exp\n",
      "  return 1 / (1 + np.exp(-x))\n"
     ]
    },
    {
     "name": "stdout",
     "output_type": "stream",
     "text": [
      "Accuracy : 0.9207\n"
     ]
    }
   ],
   "source": [
    "model = mnistmodel(weight_dir)\n",
    "(x1, t1), (x, t) = model.get_data()\n",
    "model.accuracy_cnt(x, t)"
   ]
  },
  {
   "cell_type": "code",
   "execution_count": 60,
   "id": "fa100ee7",
   "metadata": {},
   "outputs": [
    {
     "name": "stdout",
     "output_type": "stream",
     "text": [
      "Accuracy : 0.9207\n"
     ]
    },
    {
     "name": "stderr",
     "output_type": "stream",
     "text": [
      "C:\\Users\\dudwl\\AppData\\Local\\Temp/ipykernel_980/449343092.py:2: RuntimeWarning: overflow encountered in exp\n",
      "  return 1 / (1 + np.exp(-x))\n"
     ]
    }
   ],
   "source": [
    "model.accuracy_cnt_batch(x, t, 100)"
   ]
  }
 ],
 "metadata": {
  "kernelspec": {
   "display_name": "Python 3 (ipykernel)",
   "language": "python",
   "name": "python3"
  },
  "language_info": {
   "codemirror_mode": {
    "name": "ipython",
    "version": 3
   },
   "file_extension": ".py",
   "mimetype": "text/x-python",
   "name": "python",
   "nbconvert_exporter": "python",
   "pygments_lexer": "ipython3",
   "version": "3.9.7"
  }
 },
 "nbformat": 4,
 "nbformat_minor": 5
}
