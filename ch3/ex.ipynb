{
 "cells": [
  {
   "cell_type": "code",
   "execution_count": 12,
   "id": "ebc61087",
   "metadata": {},
   "outputs": [],
   "source": [
    "import numpy as np\n",
    "import matplotlib.pyplot as plt"
   ]
  },
  {
   "cell_type": "code",
   "execution_count": null,
   "id": "67e6da86",
   "metadata": {},
   "outputs": [],
   "source": [
    "# 활성화 함수 구현\n",
    "# 1. 계단 함수\n",
    "# 2. 시그모이드 함수 \n",
    "# 3. ReLU 함수 "
   ]
  },
  {
   "cell_type": "code",
   "execution_count": 23,
   "id": "fc6ac768",
   "metadata": {},
   "outputs": [],
   "source": [
    "# 1. 계단 함수\n",
    "\n",
    "def step_function(x):\n",
    "    return np.where(x > 0, 1, 0)"
   ]
  },
  {
   "cell_type": "code",
   "execution_count": 26,
   "id": "06b4d4c2",
   "metadata": {},
   "outputs": [
    {
     "data": {
      "text/plain": [
       "array([1, 0, 1])"
      ]
     },
     "execution_count": 26,
     "metadata": {},
     "output_type": "execute_result"
    }
   ],
   "source": [
    "x = np.array([5.0, -5.0, 1.0])\n",
    "y = step_function(x)\n",
    "y"
   ]
  },
  {
   "cell_type": "code",
   "execution_count": 29,
   "id": "de240580",
   "metadata": {},
   "outputs": [],
   "source": [
    "# 2. 시그모이드 함수 \n",
    "\n",
    "def sigmoid(x):\n",
    "    return 1 / (1 + np.exp(x))"
   ]
  },
  {
   "cell_type": "code",
   "execution_count": 33,
   "id": "75b36109",
   "metadata": {},
   "outputs": [
    {
     "data": {
      "text/plain": [
       "array([0.00669285, 0.99330715, 0.26894142])"
      ]
     },
     "execution_count": 33,
     "metadata": {},
     "output_type": "execute_result"
    }
   ],
   "source": [
    "x = np.array([5.0, -5.0, 1.0])\n",
    "y = sigmoid(x)\n",
    "y"
   ]
  },
  {
   "cell_type": "code",
   "execution_count": 37,
   "id": "aaed0071",
   "metadata": {},
   "outputs": [],
   "source": [
    "# 3. ReLU 함수\n",
    "\n",
    "def ReLU(x):\n",
    "    return np.maximum(0, x)\n",
    "    return np.where(x>0, x,0)"
   ]
  },
  {
   "cell_type": "code",
   "execution_count": 42,
   "id": "2c1bbc89",
   "metadata": {},
   "outputs": [
    {
     "data": {
      "text/plain": [
       "array([5., 0., 1.])"
      ]
     },
     "execution_count": 42,
     "metadata": {},
     "output_type": "execute_result"
    }
   ],
   "source": [
    "x = np.array([5.0, -5.0, 1.0])\n",
    "y = ReLU(x)\n",
    "y"
   ]
  },
  {
   "cell_type": "code",
   "execution_count": 54,
   "id": "1f9f5739",
   "metadata": {},
   "outputs": [
    {
     "data": {
      "text/plain": [
       "array([ 5, 11, 17])"
      ]
     },
     "execution_count": 54,
     "metadata": {},
     "output_type": "execute_result"
    }
   ],
   "source": [
    "# 3층 신경망 구성하기\n",
    "\n",
    "x = np.array([1,2]) # 1 x 2\n",
    "w = np.array([[1,3,5],[2,4,6]]) # 2 x 3\n",
    "\n",
    "# np.dot(x,w)\n",
    "x@w"
   ]
  },
  {
   "cell_type": "code",
   "execution_count": 72,
   "id": "b524d718",
   "metadata": {},
   "outputs": [],
   "source": [
    "# 3층 신경망 구현하기\n",
    "class Net():\n",
    "    def __init__(self):\n",
    "        self.network ={}\n",
    "        self.network['w1'] = np.array([[0.1, 0.3, 0.5],[0.2, 0.4, 0.6]])\n",
    "        self.network['b1'] = np.array([0.1, 0.2, 0.3])\n",
    "                                       \n",
    "        self.network['w2'] = np.array([[0.1, 0.4],[0.2, 0.5],[0.3, 0.6]])        \n",
    "        self.network['b2'] = np.array([0.1, 0.2])  \n",
    "        \n",
    "        self.network['w3'] = np.array([[0.1, 0.3],[0.2, 0.4]])        \n",
    "        self.network['b3'] = np.array([0.1, 0.2])\n",
    "        \n",
    "    def identity_function(self, x):\n",
    "        return x\n",
    "    \n",
    "    def sigmoid(self, x):\n",
    "        return 1 / (1 + np.exp(x)) \n",
    "    \n",
    "    def forward(self, x):\n",
    "        w1, w2, w3 = self.network['w1'], self.network['w2'], self.network['w3']\n",
    "        b1, b2, b3 = self.network['b1'], self.network['b2'], self.network['b3']\n",
    "        \n",
    "        a1 = np.dot(x, w1) + b1\n",
    "        z1 = self.sigmoid(a1)\n",
    "        a2 = np.dot(z1, w2) + b2\n",
    "        z2 = self.sigmoid(a2)\n",
    "        a3 = np.dot(z2, w3) + b3\n",
    "        y = self.identity_function(a3)\n",
    "        \n",
    "        return y\n",
    "        "
   ]
  },
  {
   "cell_type": "code",
   "execution_count": 74,
   "id": "9e210a10",
   "metadata": {},
   "outputs": [
    {
     "data": {
      "text/plain": [
       "array([0.21922409, 0.48311781])"
      ]
     },
     "execution_count": 74,
     "metadata": {},
     "output_type": "execute_result"
    }
   ],
   "source": [
    "net = Net()\n",
    "x = np.array([1.0,2.0])\n",
    "net.forward(x)"
   ]
  },
  {
   "cell_type": "code",
   "execution_count": 77,
   "id": "c1188b9c",
   "metadata": {},
   "outputs": [],
   "source": [
    "# 소프트맥스 구현\n",
    "def softmax(x):\n",
    "    c = np.max(x)\n",
    "    exp_x = np.exp(x - c)\n",
    "    exp_all = np.sum(exp_x)\n",
    "    return exp_x / exp_all"
   ]
  },
  {
   "cell_type": "code",
   "execution_count": 78,
   "id": "8646d91a",
   "metadata": {},
   "outputs": [
    {
     "data": {
      "text/plain": [
       "array([0.01821127, 0.24519181, 0.73659691])"
      ]
     },
     "execution_count": 78,
     "metadata": {},
     "output_type": "execute_result"
    }
   ],
   "source": [
    "a = np.array([0.3, 2.9, 4.0])\n",
    "softmax(a)"
   ]
  },
  {
   "cell_type": "code",
   "execution_count": 80,
   "id": "ce0a59a7",
   "metadata": {},
   "outputs": [
    {
     "data": {
      "text/plain": [
       "1.0"
      ]
     },
     "execution_count": 80,
     "metadata": {},
     "output_type": "execute_result"
    }
   ],
   "source": [
    "np.sum(softmax(a))"
   ]
  },
  {
   "cell_type": "code",
   "execution_count": null,
   "id": "59c8f414",
   "metadata": {},
   "outputs": [],
   "source": [
    "# mnist를 이용한 신경망 구현"
   ]
  },
  {
   "cell_type": "code",
   "execution_count": 114,
   "id": "c4103a8f",
   "metadata": {},
   "outputs": [],
   "source": [
    "from dataset03.dataset.mnist import load_mnist"
   ]
  },
  {
   "cell_type": "code",
   "execution_count": 116,
   "id": "a7916e4c",
   "metadata": {},
   "outputs": [],
   "source": [
    "weight_dir = './dataset03/sample_weight.pkl'"
   ]
  },
  {
   "cell_type": "code",
   "execution_count": null,
   "id": "c433aee3",
   "metadata": {},
   "outputs": [],
   "source": []
  },
  {
   "cell_type": "code",
   "execution_count": 165,
   "id": "6abc7eb5",
   "metadata": {},
   "outputs": [],
   "source": [
    "import pickle\n",
    "\n",
    "class MnistModel():\n",
    "    \n",
    "    def __init__(self, weight_dir):\n",
    "        with open(weight_dir, 'rb') as f:\n",
    "            self.network = pickle.load(f)\n",
    "            \n",
    "    def get_data(self):\n",
    "        (x_train, t_train), (x_test, t_test) = load_mnist(flatten=True, normalize=False)\n",
    "        return (x_train, t_train), (x_test, t_test)\n",
    "    \n",
    "    def predict(self, x):\n",
    "        W1, W2, W3 = self.network['W1'], self.network['W2'], self.network['W3']\n",
    "        b1, b2, b3 = self.network['b1'], self.network['b2'], self.network['b3']\n",
    "        \n",
    "        a1 = np.dot(x, W1) + b1\n",
    "        z1 = sigmoid(a1)\n",
    "        a2 = np.dot(z1,W2) + b2\n",
    "        z2 = sigmoid(a2)\n",
    "        a3 = np.dot(z2, W3) + b3\n",
    "        y = softmax(a3)\n",
    "        \n",
    "        return y\n",
    "    \n",
    "    def accurancy(self, x, y):\n",
    "        \n",
    "        accuracy_cnt = 0\n",
    "        \n",
    "        for i in range(len(x)):\n",
    "            if np.argmax(self.predict(x[i])) == y[i]:\n",
    "                accuracy_cnt += 1\n",
    "        \n",
    "        print(f\"Accuracy : {float(accuracy_cnt) / len(x)}\")\n",
    "        \n",
    "    def accuracy_cnt_batch(self, x, t, batch_size):\n",
    "        \n",
    "        accuracy_cnt = 0\n",
    "        \n",
    "        for i in range(0 , len(x) , batch_size) :\n",
    "            x_batch = x [i:i+batch_size]\n",
    "            y_batch = self.predict(x_batch)\n",
    "            p = np.argmax(y_batch, axis=1)\n",
    "            accuracy_cnt = accuracy_cnt + np.sum(p == t[i:i+batch_size])\n",
    "            \n",
    "        print(f\"Accuracy : {float(accuracy_cnt) / len(x)}\") "
   ]
  },
  {
   "cell_type": "code",
   "execution_count": 166,
   "id": "5d953e43",
   "metadata": {},
   "outputs": [
    {
     "name": "stderr",
     "output_type": "stream",
     "text": [
      "C:\\Users\\dudwl\\AppData\\Local\\Temp/ipykernel_14448/2587523294.py:4: RuntimeWarning: overflow encountered in exp\n",
      "  return 1 / (1 + np.exp(x))\n"
     ]
    },
    {
     "name": "stdout",
     "output_type": "stream",
     "text": [
      "Accuracy : 0.8399\n"
     ]
    }
   ],
   "source": [
    "model = MnistModel(weight_dir)\n",
    "\n",
    "(x1, t1), (x, t)  = model.get_data()\n",
    "model.accurancy(x,t)"
   ]
  },
  {
   "cell_type": "code",
   "execution_count": 167,
   "id": "0340a354",
   "metadata": {},
   "outputs": [
    {
     "name": "stdout",
     "output_type": "stream",
     "text": [
      "Accuracy : 0.8399\n"
     ]
    },
    {
     "name": "stderr",
     "output_type": "stream",
     "text": [
      "C:\\Users\\dudwl\\AppData\\Local\\Temp/ipykernel_14448/2587523294.py:4: RuntimeWarning: overflow encountered in exp\n",
      "  return 1 / (1 + np.exp(x))\n"
     ]
    }
   ],
   "source": [
    "model.accuracy_cnt_batch(x,t,100)"
   ]
  }
 ],
 "metadata": {
  "kernelspec": {
   "display_name": "Python 3 (ipykernel)",
   "language": "python",
   "name": "python3"
  },
  "language_info": {
   "codemirror_mode": {
    "name": "ipython",
    "version": 3
   },
   "file_extension": ".py",
   "mimetype": "text/x-python",
   "name": "python",
   "nbconvert_exporter": "python",
   "pygments_lexer": "ipython3",
   "version": "3.9.7"
  }
 },
 "nbformat": 4,
 "nbformat_minor": 5
}
