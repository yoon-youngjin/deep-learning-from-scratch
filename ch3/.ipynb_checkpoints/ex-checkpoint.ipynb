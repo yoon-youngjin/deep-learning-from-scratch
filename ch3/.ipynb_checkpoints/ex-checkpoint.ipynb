{
 "cells": [
  {
   "cell_type": "code",
   "execution_count": 12,
   "id": "b8337ee4",
   "metadata": {},
   "outputs": [],
   "source": [
    "import numpy as np\n",
    "import matplotlib.pyplot as plt"
   ]
  },
  {
   "cell_type": "code",
   "execution_count": null,
   "id": "645d67d3",
   "metadata": {},
   "outputs": [],
   "source": [
    "# 활성화 함수 구현\n",
    "# 1. 계단 함수\n",
    "# 2. 시그모이드 함수 \n",
    "# 3. ReLU 함수 "
   ]
  },
  {
   "cell_type": "code",
   "execution_count": 23,
   "id": "064e7812",
   "metadata": {},
   "outputs": [],
   "source": [
    "# 1. 계단 함수\n",
    "\n",
    "def step_function(x):\n",
    "    return np.where(x > 0, 1, 0)"
   ]
  },
  {
   "cell_type": "code",
   "execution_count": 26,
   "id": "62e51354",
   "metadata": {},
   "outputs": [
    {
     "data": {
      "text/plain": [
       "array([1, 0, 1])"
      ]
     },
     "execution_count": 26,
     "metadata": {},
     "output_type": "execute_result"
    }
   ],
   "source": [
    "x = np.array([5.0, -5.0, 1.0])\n",
    "y = step_function(x)\n",
    "y"
   ]
  },
  {
   "cell_type": "code",
   "execution_count": 29,
   "id": "4761222d",
   "metadata": {},
   "outputs": [],
   "source": [
    "# 2. 시그모이드 함수 \n",
    "\n",
    "def sigmoid(x):\n",
    "    return 1 / (1 + np.exp(x))"
   ]
  },
  {
   "cell_type": "code",
   "execution_count": 33,
   "id": "62ec18a8",
   "metadata": {},
   "outputs": [
    {
     "data": {
      "text/plain": [
       "array([0.00669285, 0.99330715, 0.26894142])"
      ]
     },
     "execution_count": 33,
     "metadata": {},
     "output_type": "execute_result"
    }
   ],
   "source": [
    "x = np.array([5.0, -5.0, 1.0])\n",
    "y = sigmoid(x)\n",
    "y"
   ]
  },
  {
   "cell_type": "code",
   "execution_count": 37,
   "id": "6f9432dc",
   "metadata": {},
   "outputs": [],
   "source": [
    "# 3. ReLU 함수\n",
    "\n",
    "def ReLU(x):\n",
    "    return np.maximum(0, x)\n",
    "    return np.where(x>0, x,0)"
   ]
  },
  {
   "cell_type": "code",
   "execution_count": 42,
   "id": "08b4c411",
   "metadata": {},
   "outputs": [
    {
     "data": {
      "text/plain": [
       "array([5., 0., 1.])"
      ]
     },
     "execution_count": 42,
     "metadata": {},
     "output_type": "execute_result"
    }
   ],
   "source": [
    "x = np.array([5.0, -5.0, 1.0])\n",
    "y = ReLU(x)\n",
    "y"
   ]
  },
  {
   "cell_type": "code",
   "execution_count": 54,
   "id": "8851cc19",
   "metadata": {},
   "outputs": [
    {
     "data": {
      "text/plain": [
       "array([ 5, 11, 17])"
      ]
     },
     "execution_count": 54,
     "metadata": {},
     "output_type": "execute_result"
    }
   ],
   "source": [
    "# 3층 신경망 구성하기\n",
    "\n",
    "x = np.array([1,2]) # 1 x 2\n",
    "w = np.array([[1,3,5],[2,4,6]]) # 2 x 3\n",
    "\n",
    "# np.dot(x,w)\n",
    "x@w"
   ]
  },
  {
   "cell_type": "code",
   "execution_count": 72,
   "id": "a80346f5",
   "metadata": {},
   "outputs": [],
   "source": [
    "# 3층 신경망 구현하기\n",
    "class Net():\n",
    "    def __init__(self):\n",
    "        self.network ={}\n",
    "        self.network['w1'] = np.array([[0.1, 0.3, 0.5],[0.2, 0.4, 0.6]])\n",
    "        self.network['b1'] = np.array([0.1, 0.2, 0.3])\n",
    "                                       \n",
    "        self.network['w2'] = np.array([[0.1, 0.4],[0.2, 0.5],[0.3, 0.6]])        \n",
    "        self.network['b2'] = np.array([0.1, 0.2])  \n",
    "        \n",
    "        self.network['w3'] = np.array([[0.1, 0.3],[0.2, 0.4]])        \n",
    "        self.network['b3'] = np.array([0.1, 0.2])\n",
    "        \n",
    "    def identity_function(self, x):\n",
    "        return x\n",
    "    \n",
    "    def sigmoid(self, x):\n",
    "        return 1 / (1 + np.exp(x)) \n",
    "    \n",
    "    def forward(self, x):\n",
    "        w1, w2, w3 = self.network['w1'], self.network['w2'], self.network['w3']\n",
    "        b1, b2, b3 = self.network['b1'], self.network['b2'], self.network['b3']\n",
    "        \n",
    "        a1 = np.dot(x, w1) + b1\n",
    "        z1 = self.sigmoid(a1)\n",
    "        a2 = np.dot(z1, w2) + b2\n",
    "        z2 = self.sigmoid(a2)\n",
    "        a3 = np.dot(z2, w3) + b3\n",
    "        y = self.identity_function(a3)\n",
    "        \n",
    "        return y\n",
    "        "
   ]
  },
  {
   "cell_type": "code",
   "execution_count": 74,
   "id": "36c6e953",
   "metadata": {},
   "outputs": [
    {
     "data": {
      "text/plain": [
       "array([0.21922409, 0.48311781])"
      ]
     },
     "execution_count": 74,
     "metadata": {},
     "output_type": "execute_result"
    }
   ],
   "source": [
    "net = Net()\n",
    "x = np.array([1.0,2.0])\n",
    "net.forward(x)"
   ]
  },
  {
   "cell_type": "code",
   "execution_count": 77,
   "id": "46600ec3",
   "metadata": {},
   "outputs": [],
   "source": [
    "# 소프트맥스 구현\n",
    "def softmax(x):\n",
    "    c = np.max(x)\n",
    "    exp_x = np.exp(x - c)\n",
    "    exp_all = np.sum(exp_x)\n",
    "    return exp_x / exp_all"
   ]
  },
  {
   "cell_type": "code",
   "execution_count": 78,
   "id": "4ce2f49f",
   "metadata": {},
   "outputs": [
    {
     "data": {
      "text/plain": [
       "array([0.01821127, 0.24519181, 0.73659691])"
      ]
     },
     "execution_count": 78,
     "metadata": {},
     "output_type": "execute_result"
    }
   ],
   "source": [
    "a = np.array([0.3, 2.9, 4.0])\n",
    "softmax(a)"
   ]
  },
  {
   "cell_type": "code",
   "execution_count": 80,
   "id": "b6ad291e",
   "metadata": {},
   "outputs": [
    {
     "data": {
      "text/plain": [
       "1.0"
      ]
     },
     "execution_count": 80,
     "metadata": {},
     "output_type": "execute_result"
    }
   ],
   "source": [
    "np.sum(softmax(a))"
   ]
  },
  {
   "cell_type": "code",
   "execution_count": null,
   "id": "4e3c8f9f",
   "metadata": {},
   "outputs": [],
   "source": [
    "# mnist를 이용한 신경망 구현"
   ]
  },
  {
   "cell_type": "code",
   "execution_count": 91,
   "id": "d2c7d4fe",
   "metadata": {},
   "outputs": [],
   "source": [
    "from dataset03.dataset.mnist import load_mnist"
   ]
  },
  {
   "cell_type": "code",
   "execution_count": 84,
   "id": "14257820",
   "metadata": {},
   "outputs": [],
   "source": []
  },
  {
   "cell_type": "code",
   "execution_count": 87,
   "id": "a981e034",
   "metadata": {},
   "outputs": [
    {
     "name": "stdout",
     "output_type": "stream",
     "text": [
      "(60000, 784)\n",
      "(60000,)\n",
      "(10000, 784)\n",
      "(10000,)\n"
     ]
    }
   ],
   "source": []
  },
  {
   "cell_type": "code",
   "execution_count": 90,
   "id": "e942149b",
   "metadata": {},
   "outputs": [],
   "source": []
  },
  {
   "cell_type": "code",
   "execution_count": null,
   "id": "d5d4c6f3",
   "metadata": {},
   "outputs": [],
   "source": []
  }
 ],
 "metadata": {
  "kernelspec": {
   "display_name": "Python 3 (ipykernel)",
   "language": "python",
   "name": "python3"
  },
  "language_info": {
   "codemirror_mode": {
    "name": "ipython",
    "version": 3
   },
   "file_extension": ".py",
   "mimetype": "text/x-python",
   "name": "python",
   "nbconvert_exporter": "python",
   "pygments_lexer": "ipython3",
   "version": "3.9.7"
  }
 },
 "nbformat": 4,
 "nbformat_minor": 5
}
