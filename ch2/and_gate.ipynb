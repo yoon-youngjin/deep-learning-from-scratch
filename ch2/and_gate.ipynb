{
 "cells": [
  {
   "cell_type": "code",
   "execution_count": 2,
   "id": "af6ecdf5",
   "metadata": {},
   "outputs": [],
   "source": [
    "import numpy as np"
   ]
  },
  {
   "cell_type": "code",
   "execution_count": 19,
   "id": "711db955",
   "metadata": {},
   "outputs": [],
   "source": [
    "def AND(x1,x2):\n",
    "    x = np.array([x1, x2])\n",
    "    w = np.array([0.5, 0.5])\n",
    "    b = -0.7\n",
    "    tmp = np.sum(w*x) +b\n",
    "    if(tmp <= 0):\n",
    "        return 0\n",
    "    else:\n",
    "        return 1;"
   ]
  },
  {
   "cell_type": "code",
   "execution_count": 14,
   "id": "a1ebba3d",
   "metadata": {},
   "outputs": [
    {
     "name": "stdout",
     "output_type": "stream",
     "text": [
      "[0. 0.]\n",
      "-0.7\n",
      "(0, 0) -> 0\n",
      "[0.5 0. ]\n",
      "-0.19999999999999996\n",
      "(1, 0) -> 0\n",
      "[0.  0.5]\n",
      "-0.19999999999999996\n",
      "(0, 1) -> 0\n",
      "[0.5 0.5]\n",
      "0.30000000000000004\n",
      "(1, 1) -> 1\n"
     ]
    }
   ],
   "source": [
    "if(__name__ == '__main__'):\n",
    "    for xs in [(0, 0), (1, 0), (0, 1), (1, 1)]:\n",
    "        y = AND(xs[0], xs[1])\n",
    "        print(str(xs) +\" -> \"+str(y))"
   ]
  },
  {
   "cell_type": "code",
   "execution_count": null,
   "id": "8faef193",
   "metadata": {},
   "outputs": [],
   "source": []
  },
  {
   "cell_type": "code",
   "execution_count": null,
   "id": "1175d84f",
   "metadata": {},
   "outputs": [],
   "source": []
  }
 ],
 "metadata": {
  "kernelspec": {
   "display_name": "Python 3 (ipykernel)",
   "language": "python",
   "name": "python3"
  },
  "language_info": {
   "codemirror_mode": {
    "name": "ipython",
    "version": 3
   },
   "file_extension": ".py",
   "mimetype": "text/x-python",
   "name": "python",
   "nbconvert_exporter": "python",
   "pygments_lexer": "ipython3",
   "version": "3.9.7"
  }
 },
 "nbformat": 4,
 "nbformat_minor": 5
}
